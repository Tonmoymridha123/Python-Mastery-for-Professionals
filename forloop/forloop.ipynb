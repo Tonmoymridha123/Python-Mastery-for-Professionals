{
 "cells": [
  {
   "cell_type": "code",
   "execution_count": 2,
   "metadata": {},
   "outputs": [
    {
     "name": "stdout",
     "output_type": "stream",
     "text": [
      "steps 1\n",
      "steps 2\n",
      "steps 3\n",
      "steps 4\n",
      "steps 5\n",
      "steps 6\n",
      "steps 7\n",
      "steps 8\n",
      "steps 9\n"
     ]
    }
   ],
   "source": [
    "tea = [2, 5, 10, 20, 50]\n",
    "\n",
    "for i in range(1,10):\n",
    "    print(f\"steps {i}\")\n",
    "\n"
   ]
  },
  {
   "cell_type": "code",
   "execution_count": null,
   "metadata": {},
   "outputs": [],
   "source": []
  }
 ],
 "metadata": {
  "kernelspec": {
   "display_name": "Python 3",
   "language": "python",
   "name": "python3"
  },
  "language_info": {
   "codemirror_mode": {
    "name": "ipython",
    "version": 3
   },
   "file_extension": ".py",
   "mimetype": "text/x-python",
   "name": "python",
   "nbconvert_exporter": "python",
   "pygments_lexer": "ipython3",
   "version": "3.10.12"
  }
 },
 "nbformat": 4,
 "nbformat_minor": 2
}
