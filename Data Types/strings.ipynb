{
 "cells": [
  {
   "cell_type": "code",
   "execution_count": null,
   "metadata": {},
   "outputs": [],
   "source": [
    "# You can concatenate strings with other data type by converting them to string using `str()` function\n",
    "name = \"Dipu\"\n",
    "age = 23\n",
    "height = 5.5\n",
    "result = \"Name\" + name + \", age: \" + str(age) + \", Height: \" + str(height)\n",
    "print(result)"
   ]
  },
  {
   "cell_type": "code",
   "execution_count": null,
   "metadata": {},
   "outputs": [],
   "source": [
    "name = \"Dipu\"\n",
    "age = 23\n",
    "height = 5.5\n",
    "result = \"Name: %s, Age: %d, Height: %.1f\" % (name, age, height)\n",
    "print(result)"
   ]
  },
  {
   "cell_type": "code",
   "execution_count": null,
   "metadata": {},
   "outputs": [],
   "source": [
    "print(\"Name %s, %d, %.1f\" %(name, age, height))"
   ]
  },
  {
   "cell_type": "code",
   "execution_count": null,
   "metadata": {},
   "outputs": [],
   "source": [
    "number = 255\n",
    "\n",
    "result = \"Decimal: %d, Hexadecimal: %x, Octal: %o\" % (number, number, number)\n",
    "print(result)"
   ]
  },
  {
   "cell_type": "code",
   "execution_count": null,
   "metadata": {},
   "outputs": [],
   "source": [
    "# Scientific Notation\n",
    "\n",
    "large_number = 123456789.98765\n",
    "\n",
    "result = \"Large Number: %e\" % large_number\n",
    "print(result)\n"
   ]
  },
  {
   "cell_type": "code",
   "execution_count": null,
   "metadata": {},
   "outputs": [],
   "source": [
    "# Padding and Alignment\n",
    "name = \"Eve\"\n",
    "age = 34\n",
    "\n",
    "# Left align name within 10 spaces, right align age within 5 spaces\n",
    "result = \"Name: %-10s Age: %5d\" % (name, age)\n",
    "print(result)\n"
   ]
  },
  {
   "cell_type": "code",
   "execution_count": null,
   "metadata": {},
   "outputs": [],
   "source": [
    "# Boolean Values\n",
    "\n",
    "is_active = True\n",
    "\n",
    "result = \"Active: %s\" % is_active\n",
    "print(result)\n"
   ]
  },
  {
   "cell_type": "code",
   "execution_count": null,
   "metadata": {},
   "outputs": [],
   "source": [
    "# Complex Number\n",
    "complex_number = 3 + 4j\n",
    "\n",
    "result = \"Complex Number: %s\" % complex_number\n",
    "print(result)\n"
   ]
  },
  {
   "cell_type": "code",
   "execution_count": null,
   "metadata": {},
   "outputs": [],
   "source": [
    "# Formatting Dates\n",
    "\n",
    "year = 2024\n",
    "month = 5\n",
    "day = 18\n",
    "\n",
    "result = \"Date: %02d/%02d/%04d\" % (day, month, year)\n",
    "print(result)\n"
   ]
  }
 ],
 "metadata": {
  "kernelspec": {
   "display_name": "Python 3",
   "language": "python",
   "name": "python3"
  },
  "language_info": {
   "codemirror_mode": {
    "name": "ipython",
    "version": 3
   },
   "file_extension": ".py",
   "mimetype": "text/x-python",
   "name": "python",
   "nbconvert_exporter": "python",
   "pygments_lexer": "ipython3",
   "version": "3.10.12"
  }
 },
 "nbformat": 4,
 "nbformat_minor": 2
}
