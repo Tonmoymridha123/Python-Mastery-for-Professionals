{
 "cells": [
  {
   "cell_type": "code",
   "execution_count": null,
   "metadata": {},
   "outputs": [
    {
     "name": "stdout",
     "output_type": "stream",
     "text": [
      "NameDipu, age: 23, Height: 5.5\n"
     ]
    }
   ],
   "source": [
    "# You can concatenate strings with other data type by converting them to string using `str()` function\n",
    "name = \"Dipu\"\n",
    "age = 23\n",
    "height = 5.5\n",
    "result = \"Name\" + name + \", age: \" + str(age) + \", Height: \" + str(height)\n",
    "print(result)"
   ]
  },
  {
   "cell_type": "code",
   "execution_count": null,
   "metadata": {},
   "outputs": [
    {
     "name": "stdout",
     "output_type": "stream",
     "text": [
      "Name: Dipu, Age: 23, Height: 5.5\n"
     ]
    }
   ],
   "source": [
    "name = \"Dipu\"\n",
    "age = 23\n",
    "height = 5.5\n",
    "result = \"Name: %s, Age: %d, Height: %.1f\" % (name, age, height)\n",
    "print(result) "
   ]
  },
  {
   "cell_type": "code",
   "execution_count": null,
   "metadata": {},
   "outputs": [
    {
     "name": "stdout",
     "output_type": "stream",
     "text": [
      "Name Dipu, 23, 5.5\n"
     ]
    }
   ],
   "source": [
    "print(\"Name %s, %d, %.1f\" %(name, age, height))"
   ]
  },
  {
   "cell_type": "code",
   "execution_count": null,
   "metadata": {},
   "outputs": [
    {
     "name": "stdout",
     "output_type": "stream",
     "text": [
      "Decimal: 255, Hexadecimal: ff, Octal: 377\n"
     ]
    }
   ],
   "source": [
    "number = 255\n",
    "\n",
    "result = \"Decimal: %d, Hexadecimal: %x, Octal: %o\" % (number, number, number)\n",
    "print(result)"
   ]
  },
  {
   "cell_type": "code",
   "execution_count": null,
   "metadata": {},
   "outputs": [],
   "source": [
    "# Scientific Notation\n",
    "\n",
    "large_number = 123456789.98765\n",
    "\n",
    "result = \"Large Number: %e\" % large_number\n",
    "print(result)\n"
   ]
  },
  {
   "cell_type": "code",
   "execution_count": null,
   "metadata": {},
   "outputs": [
    {
     "name": "stdout",
     "output_type": "stream",
     "text": [
      "Name: Eve        Age:    34\n"
     ]
    }
   ],
   "source": [
    "# Padding and Alignment\n",
    "name = \"Eve\"\n",
    "age = 34\n",
    "\n",
    "# Left align name within 10 spaces, right align age within 5 spaces\n",
    "result = \"Name: %-10s Age: %5d\" % (name, age)\n",
    "print(result)\n"
   ]
  },
  {
   "cell_type": "code",
   "execution_count": null,
   "metadata": {},
   "outputs": [
    {
     "name": "stdout",
     "output_type": "stream",
     "text": [
      "Active: True\n"
     ]
    }
   ],
   "source": [
    "# Boolean Values\n",
    "\n",
    "is_active = True\n",
    "\n",
    "result = \"Active: %s\" % is_active\n",
    "print(result)\n"
   ]
  },
  {
   "cell_type": "code",
   "execution_count": null,
   "metadata": {},
   "outputs": [
    {
     "name": "stdout",
     "output_type": "stream",
     "text": [
      "Complex Number: (3+4j)\n"
     ]
    }
   ],
   "source": [
    "# Complex Number\n",
    "complex_number = 3 + 4j\n",
    "\n",
    "result = \"Complex Number: %s\" % complex_number\n",
    "print(result)\n"
   ]
  },
  {
   "cell_type": "code",
   "execution_count": null,
   "metadata": {},
   "outputs": [],
   "source": [
    "# Formatting Dates\n",
    "\n",
    "year = 2024\n",
    "month = 5\n",
    "day = 18\n",
    "\n",
    "result = \"Date: %02d/%02d/%04d\" % (day, month, year)\n",
    "print(result)\n",
    "\n",
    "\n",
    "\n",
    "\n"
   ]
  },
  {
   "cell_type": "code",
   "execution_count": 3,
   "metadata": {},
   "outputs": [
    {
     "name": "stdout",
     "output_type": "stream",
     "text": [
      "my name is orio\n"
     ]
    }
   ],
   "source": [
    "name = \"orio\"\n",
    "age = 17\n",
    "print (f\"my name is {name}\")"
   ]
  }
 ],
 "metadata": {
  "kernelspec": {
   "display_name": "Python 3",
   "language": "python",
   "name": "python3"
  },
  "language_info": {
   "codemirror_mode": {
    "name": "ipython",
    "version": 3
   },
   "file_extension": ".py",
   "mimetype": "text/x-python",
   "name": "python",
   "nbconvert_exporter": "python",
   "pygments_lexer": "ipython3",
   "version": "3.12.3"
  }
 },
 "nbformat": 4,
 "nbformat_minor": 2
}
