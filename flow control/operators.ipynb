{
 "cells": [
  {
   "cell_type": "code",
   "execution_count": null,
   "metadata": {},
   "outputs": [],
   "source": [
    "# Arithmetic Operators\n",
    "# a + b\n",
    "# a - b\n",
    "# a * b\n",
    "# a / b\n",
    "# a % b\n",
    "# a ** y\n",
    "# a // y\n",
    "\n",
    "\n",
    "a = 10\n",
    "b = 23\n",
    "\n",
    "print(b%a)"
   ]
  },
  {
   "cell_type": "code",
   "execution_count": null,
   "metadata": {},
   "outputs": [],
   "source": [
    "# Comparison Operators\n",
    "# a == b\n",
    "# a != b\n",
    "# a > b\n",
    "# a < b\n",
    "# a >= b\n",
    "# a <= b\n",
    "\n",
    "a = 10\n",
    "b = 20\n",
    "print(a > b)"
   ]
  },
  {
   "cell_type": "code",
   "execution_count": null,
   "metadata": {},
   "outputs": [],
   "source": [
    "# Logical Operators\n",
    "# a and b\n",
    "# a or b\n",
    "# not a\n"
   ]
  }
 ],
 "metadata": {
  "kernelspec": {
   "display_name": "Python 3",
   "language": "python",
   "name": "python3"
  },
  "language_info": {
   "codemirror_mode": {
    "name": "ipython",
    "version": 3
   },
   "file_extension": ".py",
   "mimetype": "text/x-python",
   "name": "python",
   "nbconvert_exporter": "python",
   "pygments_lexer": "ipython3",
   "version": "3.10.12"
  }
 },
 "nbformat": 4,
 "nbformat_minor": 2
}
