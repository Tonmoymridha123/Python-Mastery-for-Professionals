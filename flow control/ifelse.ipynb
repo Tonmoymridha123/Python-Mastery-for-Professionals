{
 "cells": [
  {
   "cell_type": "code",
   "execution_count": null,
   "metadata": {},
   "outputs": [],
   "source": [
    "num = 200\n",
    "age = 17\n",
    "\n",
    "# if num > 0:\n",
    "#     print(\"Number is greater then 0\")\n",
    "# else:\n",
    "#     print(\"Number is less then 0\")\n",
    "\n",
    "if age < 18:\n",
    "    print(\"you are not allowed to go Dhaka alone\")\n",
    "else:\n",
    "    print(\"You are allowed to go Dhaka alone\")"
   ]
  },
  {
   "cell_type": "code",
   "execution_count": 4,
   "metadata": {},
   "outputs": [
    {
     "name": "stdout",
     "output_type": "stream",
     "text": [
      "Dipu is older then Opu\n"
     ]
    }
   ],
   "source": [
    "name1 = input(\"Name: \")\n",
    "age1 = input(\"Age: \")\n",
    "name2 = input(\"Name: \")\n",
    "age2 = input(\"Age: \")\n",
    "\n",
    "if int(age1) > int(age2):\n",
    "    print(f\"{name1} is older then {name2}\")\n",
    "\n",
    "else:\n",
    "    print(f\"{name2} is older then {name1}\")\n",
    "\n"
   ]
  },
  {
   "cell_type": "code",
   "execution_count": null,
   "metadata": {},
   "outputs": [],
   "source": [
    "anemyHealth = 5\n",
    "\n",
    "while True:\n",
    "    if anemyHealth <= 0:\n",
    "        break\n",
    "    newShoot = input()\n",
    "    cShoot = int(newShoot)\n",
    "    if anemyHealth > 0:\n",
    "        anemyHealth = anemyHealth - cShoot\n",
    "        print(anemyHealth)\n",
    "        if anemyHealth <= 0:\n",
    "            print(\"Anemy is Dead!\")\n",
    "            break"
   ]
  },
  {
   "cell_type": "code",
   "execution_count": null,
   "metadata": {},
   "outputs": [],
   "source": []
  }
 ],
 "metadata": {
  "kernelspec": {
   "display_name": "Python 3",
   "language": "python",
   "name": "python3"
  },
  "language_info": {
   "codemirror_mode": {
    "name": "ipython",
    "version": 3
   },
   "file_extension": ".py",
   "mimetype": "text/x-python",
   "name": "python",
   "nbconvert_exporter": "python",
   "pygments_lexer": "ipython3",
   "version": "3.10.12"
  }
 },
 "nbformat": 4,
 "nbformat_minor": 2
}
