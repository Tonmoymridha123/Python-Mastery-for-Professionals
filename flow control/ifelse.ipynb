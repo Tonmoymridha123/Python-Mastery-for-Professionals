{
 "cells": [
  {
   "cell_type": "code",
   "execution_count": null,
   "metadata": {},
   "outputs": [],
   "source": [
    "num = 200\n",
    "age = 17\n",
    "\n",
    "# if num > 0:\n",
    "#     print(\"Number is greater then 0\")\n",
    "# else:\n",
    "#     print(\"Number is less then 0\")\n",
    "\n",
    "if age < 18:\n",
    "    print(\"you are not allowed to go Dhaka alone\")\n",
    "else:\n",
    "    print(\"You are allowed to go Dhaka alone\")"
   ]
  },
  {
   "cell_type": "code",
   "execution_count": null,
   "metadata": {},
   "outputs": [],
   "source": [
    "name1 = input(\"Name: \")\n",
    "age1 = input(\"Age: \")\n",
    "name2 = input(\"Name: \")\n",
    "age2 = input(\"Age: \")\n",
    "\n",
    "if int(age1) > int(age2):\n",
    "    print(f\"{name1} is older then {name2}\")\n",
    "\n",
    "else:\n",
    "    print(f\"{name2} is older then {name1}\")\n",
    "\n"
   ]
  },
  {
   "cell_type": "code",
   "execution_count": null,
   "metadata": {},
   "outputs": [],
   "source": [
    "anemyHealth = 5\n",
    "\n",
    "while True:\n",
    "    if anemyHealth <= 0:\n",
    "        break\n",
    "    newShoot = input()\n",
    "    cShoot = int(newShoot)\n",
    "    if anemyHealth > 0:\n",
    "        anemyHealth = anemyHealth - cShoot\n",
    "        print(anemyHealth)\n",
    "        if anemyHealth <= 0:\n",
    "            print(\"Anemy is Dead!\")\n",
    "            break"
   ]
  },
  {
   "cell_type": "code",
   "execution_count": null,
   "metadata": {},
   "outputs": [],
   "source": [
    "balance = True\n",
    "rain = False\n",
    "TopuPassLagseKina = True\n",
    "if balance == True:\n",
    "    print(\"Another code of line\")"
   ]
  },
  {
   "cell_type": "code",
   "execution_count": null,
   "metadata": {},
   "outputs": [],
   "source": [
    "name1 = input(\"Enter your name: \")\n",
    "age1 = input(\"Enter your age: \")\n",
    "name2 = input(\"Enter your name: \")\n",
    "age2 = input(\"Enter your age: \")\n",
    "name1_is_older_than_name2 = age1 > age2\n",
    "name2_is_older_than_name1 = age1 < age2\n",
    "name1_is_equal_to_name2 = age1 == age2\n",
    "print(name1_is_equal_to_name2)\n",
    "print(name1_is_older_than_name2)\n",
    "print(name2_is_older_than_name1)\n",
    "if age1 > age2:\n",
    "    print(f\"{name1} is older than {name2}\")\n",
    "elif age2 > age1:\n",
    "    print(f\"{name2} is older than {name1}\")\n",
    "avarage = (int(age1)+(int(age2)))/2\n",
    "print(f\"Avarage of their age is: {avarage}\")\n",
    "if int(avarage) > int(age1):\n",
    "    print(f\"{name1} is not older than their avarage age!\")\n",
    "elif int(avarage) < int(age1):\n",
    "    print(f\"{name1} is older than their avarage age!\")"
   ]
  },
  {
   "cell_type": "code",
   "execution_count": null,
   "metadata": {},
   "outputs": [],
   "source": [
    "number = int(input(\"Enter the number: \"))\n",
    "if number%2 == 0:\n",
    "    print(f\"The number is an even number!\")\n",
    "    print(f\"The next odd number is {number +1 }\")   \n",
    "    print(f\"The previous odd number is {number - 1 }\") \n",
    "    print(f\"The sum of previous odd number, the number and the next odd number is {number*3}\")\n",
    "    print(f\"The avarage number of them is {(number*3)/3}\")\n",
    "elif number%2 != 0:\n",
    "    print(f\"This is an odd number!\")\n",
    "    print(f\"The next even number is {number +1 }\")   \n",
    "    print(f\"The previous even number is {number - 1 }\")  \n",
    "    print(f\"The sum of previous even number, the number and the next even number is {number*3}\")\n",
    "    print(f\"The avarage number of them is {(number*3)/3}\")"
   ]
  }
 ],
 "metadata": {
  "kernelspec": {
   "display_name": "Python 3",
   "language": "python",
   "name": "python3"
  },
  "language_info": {
   "codemirror_mode": {
    "name": "ipython",
    "version": 3
   },
   "file_extension": ".py",
   "mimetype": "text/x-python",
   "name": "python",
   "nbconvert_exporter": "python",
   "pygments_lexer": "ipython3",
   "version": "3.10.12"
  }
 },
 "nbformat": 4,
 "nbformat_minor": 2
}
