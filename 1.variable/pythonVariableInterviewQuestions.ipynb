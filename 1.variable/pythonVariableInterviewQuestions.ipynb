{
 "cells": [
  {
   "cell_type": "markdown",
   "metadata": {},
   "source": [
    "# Python Variable Interview Questions"
   ]
  },
  {
   "cell_type": "markdown",
   "metadata": {},
   "source": [
    " What is variable python?\n",
    "\n",
    "Ans: A variable in Python is a reserved memory location to store values. Variable names are case-sensitive"
   ]
  },
  {
   "cell_type": "code",
   "execution_count": null,
   "metadata": {},
   "outputs": [],
   "source": [
    "radius = 4.5               #here radius is the variables\n",
    "area = 3.1416* radius**2      #here area is the variables"
   ]
  },
  {
   "cell_type": "markdown",
   "metadata": {},
   "source": [
    " What is value in python variables?\n",
    "\n",
    "    Ans: value  is the elements which is assigne for the variables."
   ]
  },
  {
   "cell_type": "code",
   "execution_count": null,
   "metadata": {},
   "outputs": [],
   "source": [
    "radius = 4.5             #here 4.5 is a value which is assigned for variables.\n",
    "area = 3.1416* radius**2  #here (3.1416* radius**2) is a value ."
   ]
  },
  {
   "cell_type": "markdown",
   "metadata": {},
   "source": [
    " How do you declare a varible in Python?\n",
    " \n",
    " Ans:Variables are declared by assigning a value to a variable name. \n"
   ]
  },
  {
   "cell_type": "code",
   "execution_count": null,
   "metadata": {},
   "outputs": [],
   "source": [
    "#variable_name = value # here is the example for declare a variable in python"
   ]
  },
  {
   "cell_type": "markdown",
   "metadata": {},
   "source": [
    "Variable Declaration and Assignment:\n",
    "     How do you declare and initialize a variable in Python?\n",
    "\n",
    "Ans:Variables in Python are declared and initialized by simply assigning a value to them. For example, x = 10."
   ]
  },
  {
   "cell_type": "code",
   "execution_count": null,
   "metadata": {},
   "outputs": [],
   "source": [
    "#for example:\n",
    "#variable_name = value "
   ]
  },
  {
   "cell_type": "markdown",
   "metadata": {},
   "source": [
    "what is the case of variables ? explain them."
   ]
  },
  {
   "cell_type": "code",
   "execution_count": null,
   "metadata": {},
   "outputs": [],
   "source": [
    "#camel case \n",
    "# Each word, except the first, starts with a capital letter:\n",
    "myVariableName = \"John\"\n",
    "\n",
    "#Pascle Case\n",
    "#Each word starts with a capital letter:\n",
    "MyVariableName = \"John\"\n",
    "\n",
    "#Snake Case\n",
    "#Each word is separated by an underscore character:\n",
    "my_variable_name = \"John\""
   ]
  },
  {
   "cell_type": "markdown",
   "metadata": {},
   "source": [
    " How to define/write a variables:\n",
    "    What are the rules for naming variables in Python? explain them with examples.\n",
    "\n",
    "Ans:\n",
    "*Variable names must start with a letter or an underscore (_).\n",
    "*The rest of the name can contain letters, digits, and underscores.\n",
    "*Variable names are case-sensitive.\n",
    "*Keywords cannot be used as variable names.\n"
   ]
  },
  {
   "cell_type": "code",
   "execution_count": null,
   "metadata": {},
   "outputs": [],
   "source": [
    "#Example:\n",
    "\n",
    "#string type\n",
    "name = \"Delower\"\n",
    "\n",
    "#integer type\n",
    "age = 30\n",
    "\n",
    "#float type\n",
    "pi_value = 3.1416\n",
    "\n",
    "#Boolean type\n",
    "is_valid = True\n",
    "\n",
    "#List type\n",
    "my_list = [1,2,3,4]\n",
    "\n",
    "#dictionary type\n",
    "my_dict = {\"name\": \"bob\", \"age\": 23}\n",
    "\n",
    "#none type:\n",
    "empty_value = None"
   ]
  },
  {
   "cell_type": "markdown",
   "metadata": {},
   "source": [
    "Python Variables - Assign Multiple Values"
   ]
  },
  {
   "cell_type": "code",
   "execution_count": null,
   "metadata": {},
   "outputs": [],
   "source": [
    "#Mustiple  Values to Multiple Variables\n",
    "x,y,z = \"Orange\",\"Banana\",\"Cherry\"\n",
    "print(x)\n",
    "print(y)\n",
    "print(z)\n",
    "\n",
    "#single Values to Multiple Variables\n",
    "x = y = z = \"Orange\"\n",
    "print(x)\n",
    "print(y)\n",
    "print(z)\n",
    "\n",
    "#Unpack a Collection\n",
    "fruits = [\"apple\", \"banana\", \"cherry\"]\n",
    "x, y, z = fruits\n",
    "print(x)\n",
    "print(y)\n",
    "print(z)\n"
   ]
  },
  {
   "cell_type": "markdown",
   "metadata": {},
   "source": [
    " Variable Types:\n",
    "        What are the basic data types available in Python?\n",
    "\n",
    "Ans: Python supports several basic data types including int, float, complex, str, bool, list, tuple, dict, and set."
   ]
  },
  {
   "cell_type": "markdown",
   "metadata": {},
   "source": [
    " Mutable and Immutable :\n",
    "    What is mutable and imutable variables in python with example?\n",
    "\n",
    "Ans: Mutable variables are those that can be changed/modify after their creation, example:\n",
    "list,dictionaries,sets.\n",
    "\n",
    "Immutable variables cannot be changed/modify after their creation example:\n",
    "integers, float, strings, tuples, booleans, frozenset, bytes, bytearray, range. "
   ]
  },
  {
   "cell_type": "markdown",
   "metadata": {},
   "source": [
    "Variable Scope\n",
    "    What is the difference between local and global variables in Python?\n",
    "\n",
    "  Ans:Local variables are declared inside a function and can only be accessed within that function. Global variables are declared outside of all functions and can be accessed from any part of the code."
   ]
  },
  {
   "cell_type": "markdown",
   "metadata": {},
   "source": [
    "Variable Lifetime\n",
    "\n",
    "    What determines the lifetime of a variable in Python?\n",
    "\n",
    "        The lifetime of a variable depends on its scope. Local variables exist as long as the function is executing, while global variables exist for the duration of the program.\n"
   ]
  },
  {
   "cell_type": "code",
   "execution_count": null,
   "metadata": {},
   "outputs": [],
   "source": [
    "# 3. Explain the code . And describe about their role\n",
    "x = 5\n",
    "name = \"Alice\""
   ]
  }
 ],
 "metadata": {
  "language_info": {
   "name": "python"
  }
 },
 "nbformat": 4,
 "nbformat_minor": 2
}
