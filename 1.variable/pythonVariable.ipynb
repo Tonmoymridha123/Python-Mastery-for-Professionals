{
 "cells": [
  {
   "cell_type": "markdown",
   "metadata": {},
   "source": [
    "## Variable"
   ]
  },
  {
   "cell_type": "code",
   "execution_count": null,
   "metadata": {},
   "outputs": [],
   "source": [
    "name = \"Dipu\""
   ]
  },
  {
   "cell_type": "markdown",
   "metadata": {},
   "source": [
    "## Variable Assignment"
   ]
  },
  {
   "cell_type": "code",
   "execution_count": null,
   "metadata": {},
   "outputs": [],
   "source": [
    "x = 100\n",
    "print(x)"
   ]
  },
  {
   "cell_type": "markdown",
   "metadata": {},
   "source": [
    "## Variable Reassignment"
   ]
  },
  {
   "cell_type": "code",
   "execution_count": null,
   "metadata": {},
   "outputs": [],
   "source": [
    "x = 20\n",
    "print(x)\n",
    "y = x + 10\n",
    "\n",
    "x = 7\n",
    "print(x)\n",
    "\n",
    "c = x + 10\n",
    "\n",
    "print(y)\n",
    "print(c)"
   ]
  },
  {
   "cell_type": "markdown",
   "metadata": {},
   "source": [
    "## Multiple Assignment"
   ]
  },
  {
   "cell_type": "code",
   "execution_count": null,
   "metadata": {},
   "outputs": [],
   "source": [
    "x = y = z = 10\n",
    "print(y)"
   ]
  },
  {
   "cell_type": "markdown",
   "metadata": {},
   "source": [
    "## Augmented Assignment"
   ]
  },
  {
   "cell_type": "code",
   "execution_count": 14,
   "metadata": {},
   "outputs": [
    {
     "name": "stdout",
     "output_type": "stream",
     "text": [
      "11\n"
     ]
    }
   ],
   "source": [
    "x = 10\n",
    "x += 1\n",
    "print(x)\n",
    "\n",
    "y = 5\n",
    "y **= 2\n",
    "\n"
   ]
  },
  {
   "cell_type": "code",
   "execution_count": 13,
   "metadata": {},
   "outputs": [
    {
     "name": "stdout",
     "output_type": "stream",
     "text": [
      "11\n",
      "13\n",
      "16\n",
      "20\n",
      "25\n",
      "31\n",
      "38\n",
      "46\n",
      "55\n"
     ]
    }
   ],
   "source": [
    "y = 10\n",
    "for i in range(1,10):\n",
    "    y += i\n",
    "    print(y)"
   ]
  },
  {
   "cell_type": "markdown",
   "metadata": {},
   "source": [
    "## Variable Naming Rules"
   ]
  },
  {
   "cell_type": "code",
   "execution_count": null,
   "metadata": {},
   "outputs": [],
   "source": [
    "amarNameSabuj = \"Shahed Ahmed\"\n",
    "\n",
    "for = \"Sabuj\"\n",
    "if\n",
    "\n",
    "@hello = \"Hello\""
   ]
  },
  {
   "cell_type": "markdown",
   "metadata": {},
   "source": [
    "## Varable Type"
   ]
  },
  {
   "cell_type": "code",
   "execution_count": null,
   "metadata": {},
   "outputs": [],
   "source": [
    "x = 100 # int\n",
    "y = 2.0 # Float\n",
    "z = \"Dipu\"\n",
    "a = 'Tanmoy'\n",
    "\n"
   ]
  },
  {
   "cell_type": "code",
   "execution_count": null,
   "metadata": {},
   "outputs": [],
   "source": [
    "age = 23\n",
    "\n",
    "name = \"Dipu\"\n",
    "\n",
    "print(f\"Name of my Nephew is {name} and his age is {age}\")"
   ]
  },
  {
   "cell_type": "code",
   "execution_count": null,
   "metadata": {},
   "outputs": [],
   "source": [
    "a = 23\n",
    "b = 34.45\n",
    "c = \"string\"\n",
    "d = False\n"
   ]
  },
  {
   "cell_type": "code",
   "execution_count": null,
   "metadata": {},
   "outputs": [],
   "source": [
    "x = \"Happy \"\n",
    "y = \"Coding\"\n",
    "z = x + y\n",
    "print(z)"
   ]
  },
  {
   "cell_type": "code",
   "execution_count": null,
   "metadata": {},
   "outputs": [],
   "source": [
    "name = \"    hello my name is Delower!     \" \n",
    "clean_name = name.strip()             # To remove the cotation mark form the code.\n",
    "print(clean_name)\n",
    "print(name.replace(\"my\", \"My\"))       # To replance the string word\n",
    "print(name.split())                   # To separate string at the specified\n",
    "print(name.capitalize())             # To capitalize the first letter of the strig.\n",
    "print(name.upper())                    # To capitalize all the letter of string.\n",
    "\n",
    "bean = \"HELLO WORLD\"\n",
    "print(bean.lower())                    # To smallize the string.\n",
    "\n",
    "jeny = \"hello world\"\n",
    "\n",
    "\n",
    "kavi = [\"hello \", \"computer, \", \"this is \", \"World\",\"8920\"]\n",
    "print(\" \".join(kavi))                  # To joint list in one sentence\n",
    "\n",
    "\n",
    "lavi = \"hello world put in air\"\n",
    "print(lavi.index(\"p\"))                # To find the index number of letter\n",
    "print(lavi.count(\"l\"))                # To count how many \"l\" is there\n",
    "print(lavi.find(\"put\"))               # To count the lowest position of \"put\" letter\n",
    "print(lavi.startswith(\"hello\"))       # To find if the code start with \"hello\"\n",
    "print(lavi.endswith(\"air\"))           # To find if the code finished with \"air\"\n",
    "\n",
    "javi = \"delower\"\n",
    "print(javi.isalpha())                 # To observe is this a alphabatic value\n",
    "      \n",
    "navi = \"8920\"\n",
    "print(navi.isdigit())                 # To observe is this a numaric value  \n",
    " \n",
    "davi = \"delower8920\"\n",
    "print(davi.isalnum())                 # To observe is this a alphanumaric value\n",
    "\n",
    "doli =\"     \"\n",
    "print(doli.isspace())                 # To finnd is this a space "
   ]
  }
 ],
 "metadata": {
  "kernelspec": {
   "display_name": "Python 3",
   "language": "python",
   "name": "python3"
  },
  "language_info": {
   "codemirror_mode": {
    "name": "ipython",
    "version": 3
   },
   "file_extension": ".py",
   "mimetype": "text/x-python",
   "name": "python",
   "nbconvert_exporter": "python",
   "pygments_lexer": "ipython3",
   "version": "3.10.12"
  }
 },
 "nbformat": 4,
 "nbformat_minor": 2
}
