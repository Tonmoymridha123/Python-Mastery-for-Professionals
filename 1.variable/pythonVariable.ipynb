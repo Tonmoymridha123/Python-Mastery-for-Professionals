{
 "cells": [
  {
   "cell_type": "markdown",
   "metadata": {},
   "source": [
    "## Variable"
   ]
  },
  {
   "cell_type": "code",
   "execution_count": null,
   "metadata": {},
   "outputs": [],
   "source": []
  },
  {
   "cell_type": "markdown",
   "metadata": {},
   "source": [
    "## Variable Assignment"
   ]
  },
  {
   "cell_type": "code",
   "execution_count": null,
   "metadata": {},
   "outputs": [],
   "source": []
  },
  {
   "cell_type": "markdown",
   "metadata": {},
   "source": [
    "## Variable Reassignment"
   ]
  },
  {
   "cell_type": "code",
   "execution_count": null,
   "metadata": {},
   "outputs": [],
   "source": []
  },
  {
   "cell_type": "markdown",
   "metadata": {},
   "source": [
    "## Multiple Assignment"
   ]
  },
  {
   "cell_type": "markdown",
   "metadata": {},
   "source": [
    "## Augmented Assignment"
   ]
  },
  {
   "cell_type": "markdown",
   "metadata": {},
   "source": [
    "## Variable Naming Rules"
   ]
  },
  {
   "cell_type": "markdown",
   "metadata": {},
   "source": [
    "## Varable Type"
   ]
  },
  {
   "cell_type": "code",
   "execution_count": null,
   "metadata": {},
   "outputs": [],
   "source": []
  },
  {
   "cell_type": "code",
   "execution_count": 7,
   "metadata": {},
   "outputs": [
    {
     "name": "stdout",
     "output_type": "stream",
     "text": [
      "Name of my Nephew is Dipu and his age is 23\n"
     ]
    }
   ],
   "source": [
    "age = 23\n",
    "\n",
    "name = \"Dipu\"\n",
    "\n",
    "print(f\"Name of my Nephew is {name} and his age is {age}\")"
   ]
  },
  {
   "cell_type": "code",
   "execution_count": 6,
   "metadata": {},
   "outputs": [],
   "source": [
    "a = 23\n",
    "b = 34.45\n",
    "c = \"string\"\n",
    "d = False\n"
   ]
  },
  {
   "cell_type": "code",
   "execution_count": 2,
   "metadata": {},
   "outputs": [
    {
     "name": "stdout",
     "output_type": "stream",
     "text": [
      "Happy Coding\n"
     ]
    }
   ],
   "source": [
    "x = \"Happy \"\n",
    "y = \"Coding\"\n",
    "z = x + y\n",
    "print(z)"
   ]
  },
  {
   "cell_type": "code",
   "execution_count": null,
   "metadata": {},
   "outputs": [],
   "source": [
    "name = \"    hello my name is Delower!     \" \n",
    "clean_name = name.strip()             # To remove the cotation mark form the code.\n",
    "print(clean_name)\n",
    "print(name.replace(\"my\", \"My\"))       # To replance the string word\n",
    "print(name.split())                   # To separate string at the specified\n",
    "print(name.capitalize())             # To capitalize the first letter of the strig.\n",
    "print(name.upper())                    # To capitalize all the letter of string.\n",
    "\n",
    "bean = \"HELLO WORLD\"\n",
    "print(bean.lower())                    # To smallize the string.\n",
    "\n",
    "jeny = \"hello world\"\n",
    "\n",
    "\n",
    "kavi = [\"hello \", \"computer, \", \"this is \", \"World\",\"8920\"]\n",
    "print(\" \".join(kavi))                  # To joint list in one sentence\n",
    "\n",
    "\n",
    "lavi = \"hello world put in air\"\n",
    "print(lavi.index(\"p\"))                # To find the index number of letter\n",
    "print(lavi.count(\"l\"))                # To count how many \"l\" is there\n",
    "print(lavi.find(\"put\"))               # To count the lowest position of \"put\" letter\n",
    "print(lavi.startswith(\"hello\"))       # To find if the code start with \"hello\"\n",
    "print(lavi.endswith(\"air\"))           # To find if the code finished with \"air\"\n",
    "\n",
    "javi = \"delower\"\n",
    "print(javi.isalpha())                 # To observe is this a alphabatic value\n",
    "      \n",
    "navi = \"8920\"\n",
    "print(navi.isdigit())                 # To observe is this a numaric value  \n",
    " \n",
    "davi = \"delower8920\"\n",
    "print(davi.isalnum())                 # To observe is this a alphanumaric value\n",
    "\n",
    "doli =\"     \"\n",
    "print(doli.isspace())                 # To finnd is this a space "
   ]
  }
 ],
 "metadata": {
  "kernelspec": {
   "display_name": "Python 3",
   "language": "python",
   "name": "python3"
  },
  "language_info": {
   "codemirror_mode": {
    "name": "ipython",
    "version": 3
   },
   "file_extension": ".py",
   "mimetype": "text/x-python",
   "name": "python",
   "nbconvert_exporter": "python",
   "pygments_lexer": "ipython3",
   "version": "3.10.12"
  }
 },
 "nbformat": 4,
 "nbformat_minor": 2
}
