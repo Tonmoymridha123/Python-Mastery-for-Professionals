{
 "cells": [
  {
   "cell_type": "code",
   "execution_count": 15,
   "metadata": {},
   "outputs": [
    {
     "name": "stdout",
     "output_type": "stream",
     "text": [
      "8\n"
     ]
    }
   ],
   "source": [
    "# Arithmetic Operators\n",
    "# a + b\n",
    "# a - b\n",
    "# a * b\n",
    "# a / b\n",
    "# a % b\n",
    "# a ** y\n",
    "# a // y\n",
    "\n",
    "\n",
    "a = 3\n",
    "b = 2\n",
    "\n",
    "print(b ** a)"
   ]
  },
  {
   "cell_type": "code",
   "execution_count": 18,
   "metadata": {},
   "outputs": [
    {
     "name": "stdout",
     "output_type": "stream",
     "text": [
      "True\n"
     ]
    }
   ],
   "source": [
    "# Comparison Operators\n",
    "# a == b\n",
    "# a != b\n",
    "# a > b\n",
    "# a < b\n",
    "# a >= b\n",
    "# a <= b\n",
    "\n",
    "a = 10\n",
    "b = 20\n",
    "print(a < b)"
   ]
  },
  {
   "cell_type": "code",
   "execution_count": null,
   "metadata": {},
   "outputs": [],
   "source": [
    "# Logical Operators\n",
    "# a and b\n",
    "# a or b\n",
    "# not a\n"
   ]
  },
  {
   "cell_type": "code",
   "execution_count": null,
   "metadata": {},
   "outputs": [],
   "source": [
    "# Calculating it's leap year or not:\n",
    "year = int(input())\n",
    "jon = (year%400)\n",
    "bon = (year%100)\n",
    "kon = (year%4)\n",
    "if jon == 0:\n",
    "    print(f\"{year} is not a leap year!\")\n",
    "elif bon == 0:\n",
    "    print(f\"{year} is not a leap year!\")\n",
    "elif kon == 0:\n",
    "    print(f\"{year} is not a leap year!\")\n",
    "else:\n",
    "    print(f\"{year} is not a leap year!\")"
   ]
  },
  {
   "cell_type": "code",
   "execution_count": null,
   "metadata": {},
   "outputs": [],
   "source": [
    "fahrenheit = int(input())\n",
    "Degree_Celsius = ((fahrenheit - 32) *5)/9\n",
    "kelvin_celsius = (Degree_Celsius + 273.15)\n",
    "print(f\"The {fahrenheit} degree fahrenheit is {Degree_Celsius} degree celsius.\")\n",
    "print(f\"The {fahrenheit} degree fahrenheit is {kelvin_celsius} degree Kelvin.\")"
   ]
  }
 ],
 "metadata": {
  "kernelspec": {
   "display_name": "Python 3",
   "language": "python",
   "name": "python3"
  },
  "language_info": {
   "codemirror_mode": {
    "name": "ipython",
    "version": 3
   },
   "file_extension": ".py",
   "mimetype": "text/x-python",
   "name": "python",
   "nbconvert_exporter": "python",
   "pygments_lexer": "ipython3",
   "version": "3.10.12"
  }
 },
 "nbformat": 4,
 "nbformat_minor": 2
}
