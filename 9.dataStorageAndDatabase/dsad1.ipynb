{
 "cells": [
  {
   "cell_type": "code",
   "execution_count": null,
   "metadata": {},
   "outputs": [],
   "source": [
    "import data1\n",
    "\n",
    "# Access the dictionary from file1\n",
    "data = data1.data\n",
    "print(data)\n",
    "\n",
    "# Modify the dictionary\n",
    "data['key3'] = 'value3'\n",
    "\n",
    "print(data)"
   ]
  },
  {
   "cell_type": "code",
   "execution_count": null,
   "metadata": {},
   "outputs": [],
   "source": [
    "import ast\n",
    "import astor\n",
    "\n",
    "# Read and parse the Python file\n",
    "with open('data1.py', 'r') as file:\n",
    "    tree = ast.parse(file.read())\n",
    "\n",
    "# Define a visitor class to find and modify the dictionary assignment\n",
    "class DictUpdater(ast.NodeTransformer):\n",
    "    def visit_Assign(self, node):\n",
    "        if isinstance(node.targets[0], ast.Name) and node.targets[0].id == 'data':\n",
    "            # Update the dictionary by adding a new key-value pair\n",
    "            node.value.keys.append(ast.Str(s='key3'))\n",
    "            node.value.values.append(ast.Str(s='value3'))\n",
    "        return node\n",
    "\n",
    "# Modify the AST\n",
    "updater = DictUpdater()\n",
    "updated_tree = updater.visit(tree)\n",
    "\n",
    "# Write the modified AST back to the file\n",
    "with open('data1.py', 'w') as file:\n",
    "    file.write(astor.to_source(updated_tree))\n",
    "\n",
    "# Verify the update\n",
    "import data1\n",
    "print(data1.data)  # Should print {'key1': 'value1', 'key2': 'value2', 'key3': 'value3'}\n"
   ]
  },
  {
   "cell_type": "code",
   "execution_count": null,
   "metadata": {},
   "outputs": [],
   "source": []
  }
 ],
 "metadata": {
  "kernelspec": {
   "display_name": "Python 3",
   "language": "python",
   "name": "python3"
  },
  "language_info": {
   "codemirror_mode": {
    "name": "ipython",
    "version": 3
   },
   "file_extension": ".py",
   "mimetype": "text/x-python",
   "name": "python",
   "nbconvert_exporter": "python",
   "pygments_lexer": "ipython3",
   "version": "3.10.12"
  }
 },
 "nbformat": 4,
 "nbformat_minor": 2
}
