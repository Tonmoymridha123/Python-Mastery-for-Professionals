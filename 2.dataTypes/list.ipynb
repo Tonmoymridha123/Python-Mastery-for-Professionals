{
 "cells": [
  {
   "cell_type": "code",
   "execution_count": 7,
   "metadata": {},
   "outputs": [
    {
     "name": "stdout",
     "output_type": "stream",
     "text": [
      "Jodu\n",
      "4\n"
     ]
    }
   ],
   "source": [
    "student0 = \"Karim\"\n",
    "student1 = \"Rahim\"\n",
    "student2 = \"Jodu\"\n",
    "student = [\"Karim\", \"Rahim\", \"Jodu\"]\n",
    "print(student[2])\n",
    "students = [\"Orio\", \"Delowar\", \"Sabuj\", \"2\", 3, 4, 7, 2.0]\n",
    "print(students[5])\n",
    "\n"
   ]
  },
  {
   "cell_type": "code",
   "execution_count": 8,
   "metadata": {},
   "outputs": [
    {
     "name": "stdout",
     "output_type": "stream",
     "text": [
      "Rahim\n",
      "Karim\n",
      "Jodu\n",
      "Modhu\n",
      "2\n",
      "3.0\n"
     ]
    }
   ],
   "source": [
    "students = [\"Rahim\", \"Karim\", \"Jodu\", \"Modhu\", 2, 3.0]\n",
    "#print(students)\n",
    "\n",
    "for i in range():\n",
    "    print(i)\n"
   ]
  },
  {
   "cell_type": "code",
   "execution_count": null,
   "metadata": {},
   "outputs": [],
   "source": []
  }
 ],
 "metadata": {
  "kernelspec": {
   "display_name": "Python 3",
   "language": "python",
   "name": "python3"
  },
  "language_info": {
   "codemirror_mode": {
    "name": "ipython",
    "version": 3
   },
   "file_extension": ".py",
   "mimetype": "text/x-python",
   "name": "python",
   "nbconvert_exporter": "python",
   "pygments_lexer": "ipython3",
   "version": "3.10.12"
  }
 },
 "nbformat": 4,
 "nbformat_minor": 2
}
