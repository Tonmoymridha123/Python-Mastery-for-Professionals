{
 "cells": [
  {
   "cell_type": "code",
   "execution_count": 17,
   "metadata": {},
   "outputs": [
    {
     "name": "stdout",
     "output_type": "stream",
     "text": [
      "I can't go home today!\n",
      "Hello sweet home\n"
     ]
    }
   ],
   "source": [
    "balance = True\n",
    "holyday = True\n",
    "goning_time = True\n",
    "pressure = False\n",
    "if balance == True:\n",
    "    if holyday == True:\n",
    "        if goning_time == True:\n",
    "            if pressure == False:\n",
    "              print(\"I am ready to go home!\")\n",
    "    else: \n",
    "        print(\"I can't go home today!\")\n",
    "        print(\"Hello sweet home\")"
   ]
  },
  {
   "cell_type": "code",
   "execution_count": 8,
   "metadata": {},
   "outputs": [
    {
     "name": "stdout",
     "output_type": "stream",
     "text": [
      "I am ready to go home!\n",
      "I can't go home today!\n"
     ]
    }
   ],
   "source": [
    "\n",
    "balance = True\n",
    "holyday = True\n",
    "goning_time = True\n",
    "pressure = False\n",
    "if balance == True:\n",
    "  if holyday == True:\n",
    "    if goning_time == True:\n",
    "        if pressure == False:\n",
    "            print(\"I am ready to go home!\")\n",
    "    else:\n",
    "            print(\"I can't go home today!\")\n",
    "else:\n",
    "    print(\"I can't go home today!\")\n",
    "\n",
    "print(\"I can't go home today!\")"
   ]
  },
  {
   "cell_type": "code",
   "execution_count": 29,
   "metadata": {},
   "outputs": [
    {
     "name": "stdout",
     "output_type": "stream",
     "text": [
      "I will not go to market.\n"
     ]
    }
   ],
   "source": [
    "pressur = False\n",
    "freetime = True\n",
    "money = True\n",
    "study = False\n",
    "if pressure == True:\n",
    "    if freetime == True:\n",
    "        if money == True:\n",
    "            if study == False:\n",
    "                print(\"I will go to market.\")\n",
    "else:\n",
    "    print(\"I will not go to market.\")\n"
   ]
  },
  {
   "cell_type": "code",
   "execution_count": 2,
   "metadata": {},
   "outputs": [
    {
     "name": "stdout",
     "output_type": "stream",
     "text": [
      "2.0\n"
     ]
    }
   ],
   "source": [
    "a = 25.5\n",
    "b = 12.0\n",
    "print(a//b)"
   ]
  }
 ],
 "metadata": {
  "kernelspec": {
   "display_name": "Python 3",
   "language": "python",
   "name": "python3"
  },
  "language_info": {
   "codemirror_mode": {
    "name": "ipython",
    "version": 3
   },
   "file_extension": ".py",
   "mimetype": "text/x-python",
   "name": "python",
   "nbconvert_exporter": "python",
   "pygments_lexer": "ipython3",
   "version": "3.12.3"
  }
 },
 "nbformat": 4,
 "nbformat_minor": 2
}
