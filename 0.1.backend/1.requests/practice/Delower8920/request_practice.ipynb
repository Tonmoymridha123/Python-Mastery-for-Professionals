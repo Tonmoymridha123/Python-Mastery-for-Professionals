{
 "cells": [
  {
   "cell_type": "code",
   "execution_count": null,
   "metadata": {},
   "outputs": [],
   "source": [
    "import requests \n",
    "\n",
    "base_url = \"http://httpbin.org\"\n",
    "\n",
    "response = requests.get(base_url + \"/get\")\n",
    "headers = {\"User-Agent\": \"something_else\"}\n",
    "response = response.json()\n",
    "\n",
    "del response[\"origin\"]\n",
    "            \n",
    "print(response)"
   ]
  },
  {
   "cell_type": "code",
   "execution_count": null,
   "metadata": {},
   "outputs": [],
   "source": [
    "import requests\n",
    "url = \"https://w3schools.com/python/demopage.htm\" \n",
    "x = requests.get(url)\n",
    "print(x.apparent_encoding) "
   ]
  },
  {
   "cell_type": "code",
   "execution_count": null,
   "metadata": {},
   "outputs": [],
   "source": [
    "import requests \n",
    "url = \"https://w3schools.com/python/demopage.htm\"\n",
    "x = requests.get(url)\n",
    "\n",
    "\n",
    "x.close()"
   ]
  },
  {
   "cell_type": "code",
   "execution_count": null,
   "metadata": {},
   "outputs": [],
   "source": [
    "import requests \n",
    "\n",
    "url = \"https://w3schools.com/python/demopage.htm\"    \n",
    "\n",
    "x = requests.get(url)\n",
    "print(x.content)"
   ]
  },
  {
   "cell_type": "code",
   "execution_count": null,
   "metadata": {},
   "outputs": [],
   "source": [
    "import requests \n",
    "\n",
    "url = \"https://w3schools.com/python/demopage.htm\"    \n",
    "\n",
    "x = requests.get(url)\n",
    "print(x.cookies)  "
   ]
  },
  {
   "cell_type": "code",
   "execution_count": null,
   "metadata": {},
   "outputs": [],
   "source": [
    "import requests \n",
    "\n",
    "url = \"https://w3schools.com/python/demopage.htm\"    \n",
    "\n",
    "x = requests.get(url)\n",
    "\n",
    "print(x.elapsed)"
   ]
  },
  {
   "cell_type": "code",
   "execution_count": null,
   "metadata": {},
   "outputs": [],
   "source": [
    "import requests \n",
    "\n",
    "url = \"https://w3schools.com/python/demopage.htm\"    \n",
    "\n",
    "x = requests.get(url) \n",
    "\n",
    "print(x.encoding)"
   ]
  },
  {
   "cell_type": "code",
   "execution_count": null,
   "metadata": {},
   "outputs": [],
   "source": [
    "import requests \n",
    "\n",
    "url = \"https://w3schools.com/python/demopage.htm\"    \n",
    "\n",
    "x = requests.get(url) \n",
    "\n",
    "print(x.headers)"
   ]
  },
  {
   "cell_type": "code",
   "execution_count": null,
   "metadata": {},
   "outputs": [],
   "source": [
    "import requests \n",
    "\n",
    "url = \"https://www.w3schools.com/python/demopage.htm\"    \n",
    "\n",
    "x = requests.get(url) \n",
    "\n",
    "print(x.history)"
   ]
  },
  {
   "cell_type": "code",
   "execution_count": null,
   "metadata": {},
   "outputs": [],
   "source": [
    "import requests \n",
    "\n",
    "url = \"https://www.w3schools.com/python/demopage.htm\"    \n",
    "\n",
    "x = requests.get(url) \n",
    "\n",
    "print(x.is_permanent_redirect)"
   ]
  },
  {
   "cell_type": "code",
   "execution_count": null,
   "metadata": {},
   "outputs": [],
   "source": [
    "import requests \n",
    "\n",
    "url = \"https://www.w3schools.com/python/demopage.htm\"    \n",
    "\n",
    "x = requests.get(url) \n",
    "\n",
    "print(x.is_redirect)"
   ]
  }
 ],
 "metadata": {
  "language_info": {
   "name": "python"
  }
 },
 "nbformat": 4,
 "nbformat_minor": 2
}
